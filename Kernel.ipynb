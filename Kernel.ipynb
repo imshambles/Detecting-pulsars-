{
 "cells": [
  {
   "cell_type": "code",
   "execution_count": 88,
   "metadata": {},
   "outputs": [],
   "source": [
    "import numpy as np\n",
    "import pandas as pd\n",
    "from keras import layers as L\n",
    "from keras.models import Model\n",
    "import keras as k"
   ]
  },
  {
   "cell_type": "code",
   "execution_count": 30,
   "metadata": {},
   "outputs": [
    {
     "data": {
      "text/html": [
       "<div>\n",
       "<style scoped>\n",
       "    .dataframe tbody tr th:only-of-type {\n",
       "        vertical-align: middle;\n",
       "    }\n",
       "\n",
       "    .dataframe tbody tr th {\n",
       "        vertical-align: top;\n",
       "    }\n",
       "\n",
       "    .dataframe thead th {\n",
       "        text-align: right;\n",
       "    }\n",
       "</style>\n",
       "<table border=\"1\" class=\"dataframe\">\n",
       "  <thead>\n",
       "    <tr style=\"text-align: right;\">\n",
       "      <th></th>\n",
       "      <th>Mean_Profile</th>\n",
       "      <th>SD_Profile</th>\n",
       "      <th>Excess_kurtosis_Profile</th>\n",
       "      <th>Skewness_Profile</th>\n",
       "      <th>Mean_Curve</th>\n",
       "      <th>SD_Curve</th>\n",
       "      <th>Excess_kurtosis_curve</th>\n",
       "      <th>Skewness_curve</th>\n",
       "      <th>Pulsar</th>\n",
       "    </tr>\n",
       "  </thead>\n",
       "  <tbody>\n",
       "    <tr>\n",
       "      <th>0</th>\n",
       "      <td>139.937500</td>\n",
       "      <td>53.439035</td>\n",
       "      <td>-0.039384</td>\n",
       "      <td>-0.284501</td>\n",
       "      <td>2.052676</td>\n",
       "      <td>15.381810</td>\n",
       "      <td>10.683568</td>\n",
       "      <td>138.329152</td>\n",
       "      <td>0</td>\n",
       "    </tr>\n",
       "    <tr>\n",
       "      <th>1</th>\n",
       "      <td>139.625000</td>\n",
       "      <td>49.633973</td>\n",
       "      <td>-0.184105</td>\n",
       "      <td>-0.015896</td>\n",
       "      <td>0.939799</td>\n",
       "      <td>10.092949</td>\n",
       "      <td>17.078812</td>\n",
       "      <td>367.454955</td>\n",
       "      <td>0</td>\n",
       "    </tr>\n",
       "    <tr>\n",
       "      <th>2</th>\n",
       "      <td>106.648438</td>\n",
       "      <td>55.669587</td>\n",
       "      <td>0.377442</td>\n",
       "      <td>-0.594865</td>\n",
       "      <td>1.557692</td>\n",
       "      <td>14.090161</td>\n",
       "      <td>12.268356</td>\n",
       "      <td>171.990291</td>\n",
       "      <td>0</td>\n",
       "    </tr>\n",
       "    <tr>\n",
       "      <th>3</th>\n",
       "      <td>83.015625</td>\n",
       "      <td>38.095272</td>\n",
       "      <td>0.514061</td>\n",
       "      <td>2.177837</td>\n",
       "      <td>1.945652</td>\n",
       "      <td>16.407373</td>\n",
       "      <td>9.732946</td>\n",
       "      <td>104.435977</td>\n",
       "      <td>0</td>\n",
       "    </tr>\n",
       "    <tr>\n",
       "      <th>4</th>\n",
       "      <td>116.468750</td>\n",
       "      <td>35.632222</td>\n",
       "      <td>0.386352</td>\n",
       "      <td>2.199301</td>\n",
       "      <td>1.541806</td>\n",
       "      <td>14.173109</td>\n",
       "      <td>12.022914</td>\n",
       "      <td>164.296414</td>\n",
       "      <td>0</td>\n",
       "    </tr>\n",
       "  </tbody>\n",
       "</table>\n",
       "</div>"
      ],
      "text/plain": [
       "   Mean_Profile  SD_Profile  Excess_kurtosis_Profile  Skewness_Profile  \\\n",
       "0    139.937500   53.439035                -0.039384         -0.284501   \n",
       "1    139.625000   49.633973                -0.184105         -0.015896   \n",
       "2    106.648438   55.669587                 0.377442         -0.594865   \n",
       "3     83.015625   38.095272                 0.514061          2.177837   \n",
       "4    116.468750   35.632222                 0.386352          2.199301   \n",
       "\n",
       "   Mean_Curve   SD_Curve  Excess_kurtosis_curve  Skewness_curve  Pulsar  \n",
       "0    2.052676  15.381810              10.683568      138.329152       0  \n",
       "1    0.939799  10.092949              17.078812      367.454955       0  \n",
       "2    1.557692  14.090161              12.268356      171.990291       0  \n",
       "3    1.945652  16.407373               9.732946      104.435977       0  \n",
       "4    1.541806  14.173109              12.022914      164.296414       0  "
      ]
     },
     "execution_count": 30,
     "metadata": {},
     "output_type": "execute_result"
    }
   ],
   "source": [
    "df = pd.read_csv('Train.csv')\n",
    "df.head()"
   ]
  },
  {
   "cell_type": "code",
   "execution_count": 62,
   "metadata": {},
   "outputs": [],
   "source": [
    "train_x = df[df.columns[0:8]]\n",
    "train_y = df[df.columns[8]]"
   ]
  },
  {
   "cell_type": "code",
   "execution_count": 13,
   "metadata": {},
   "outputs": [
    {
     "data": {
      "text/plain": [
       "Mean_Profile                192.617188\n",
       "SD_Profile                   98.778911\n",
       "Excess_kurtosis_Profile       8.069522\n",
       "Skewness_Profile             68.101622\n",
       "Mean_Curve                  222.421405\n",
       "SD_Curve                    110.642211\n",
       "Excess_kurtosis_curve        34.539844\n",
       "Skewness_curve             1191.000837\n",
       "Pulsar                        1.000000\n",
       "dtype: float64"
      ]
     },
     "execution_count": 13,
     "metadata": {},
     "output_type": "execute_result"
    }
   ],
   "source": [
    "#finding max of each feature for normalising (for efficient optimization)\n",
    "df.max()"
   ]
  },
  {
   "cell_type": "code",
   "execution_count": 18,
   "metadata": {},
   "outputs": [],
   "source": [
    "#normalising\n",
    "df.Mean_Profile = df.Mean_Profile/192\n",
    "df.Mean_Curve = df.Mean_Curve/222\n",
    "df.SD_Profile = df.SD_Profile/98\n",
    "df.SD_Curve = df.SD_Curve/110\n",
    "df.Excess_kurtosis_Profile = df.Excess_kurtosis_Profile/8\n",
    "df.Excess_kurtosis_curve = df.Excess_kurtosis_curve/34\n",
    "df.Skewness_Profile = df.Skewness_Profile/68\n",
    "df.Skewness_curve = df.Skewness_curve/1191"
   ]
  },
  {
   "cell_type": "code",
   "execution_count": 74,
   "metadata": {},
   "outputs": [],
   "source": [
    "def classify():\n",
    "    Xinp = L.Input(shape = (8,))\n",
    "    X = L.Dense(45, activation = 'relu')(Xinp)\n",
    "    X = L.Dense(1, activation = 'sigmoid')(X)\n",
    "    model = Model(inputs = Xinp, outputs = X)\n",
    "    return model"
   ]
  },
  {
   "cell_type": "code",
   "execution_count": 75,
   "metadata": {},
   "outputs": [],
   "source": [
    "model = classify()"
   ]
  },
  {
   "cell_type": "code",
   "execution_count": 76,
   "metadata": {},
   "outputs": [],
   "source": [
    "model.compile('adam', loss='binary_crossentropy', metrics=['accuracy'])"
   ]
  },
  {
   "cell_type": "code",
   "execution_count": 77,
   "metadata": {},
   "outputs": [
    {
     "name": "stdout",
     "output_type": "stream",
     "text": [
      "_________________________________________________________________\n",
      "Layer (type)                 Output Shape              Param #   \n",
      "=================================================================\n",
      "input_9 (InputLayer)         (None, 8)                 0         \n",
      "_________________________________________________________________\n",
      "dense_15 (Dense)             (None, 45)                405       \n",
      "_________________________________________________________________\n",
      "dense_16 (Dense)             (None, 1)                 46        \n",
      "=================================================================\n",
      "Total params: 451\n",
      "Trainable params: 451\n",
      "Non-trainable params: 0\n",
      "_________________________________________________________________\n"
     ]
    }
   ],
   "source": [
    "model.summary()"
   ]
  },
  {
   "cell_type": "code",
   "execution_count": 80,
   "metadata": {
    "scrolled": true
   },
   "outputs": [
    {
     "name": "stdout",
     "output_type": "stream",
     "text": [
      "Train on 10022 samples, validate on 2506 samples\n",
      "Epoch 1/50\n",
      " - 1s - loss: 0.0781 - acc: 0.9794 - val_loss: 0.1018 - val_acc: 0.9725\n",
      "Epoch 2/50\n",
      " - 1s - loss: 0.0799 - acc: 0.9776 - val_loss: 0.1055 - val_acc: 0.9737\n",
      "Epoch 3/50\n",
      " - 1s - loss: 0.0795 - acc: 0.9784 - val_loss: 0.0920 - val_acc: 0.9749\n",
      "Epoch 4/50\n",
      " - 1s - loss: 0.0735 - acc: 0.9793 - val_loss: 0.0885 - val_acc: 0.9757\n",
      "Epoch 5/50\n",
      " - 1s - loss: 0.0778 - acc: 0.9787 - val_loss: 0.0991 - val_acc: 0.9725\n",
      "Epoch 6/50\n",
      " - 1s - loss: 0.0764 - acc: 0.9787 - val_loss: 0.0889 - val_acc: 0.9745\n",
      "Epoch 7/50\n",
      " - 1s - loss: 0.0826 - acc: 0.9785 - val_loss: 0.0901 - val_acc: 0.9757\n",
      "Epoch 8/50\n",
      " - 1s - loss: 0.0748 - acc: 0.9799 - val_loss: 0.0911 - val_acc: 0.9729\n",
      "Epoch 9/50\n",
      " - 1s - loss: 0.0768 - acc: 0.9782 - val_loss: 0.0853 - val_acc: 0.9757\n",
      "Epoch 10/50\n",
      " - 1s - loss: 0.0761 - acc: 0.9782 - val_loss: 0.0839 - val_acc: 0.9761\n",
      "Epoch 11/50\n",
      " - 1s - loss: 0.0770 - acc: 0.9780 - val_loss: 0.0943 - val_acc: 0.9721\n",
      "Epoch 12/50\n",
      " - 1s - loss: 0.0751 - acc: 0.9789 - val_loss: 0.1018 - val_acc: 0.9713\n",
      "Epoch 13/50\n",
      " - 1s - loss: 0.0746 - acc: 0.9792 - val_loss: 0.0948 - val_acc: 0.9745\n",
      "Epoch 14/50\n",
      " - 1s - loss: 0.0758 - acc: 0.9791 - val_loss: 0.0857 - val_acc: 0.9749\n",
      "Epoch 15/50\n",
      " - 1s - loss: 0.0733 - acc: 0.9795 - val_loss: 0.0927 - val_acc: 0.9765\n",
      "Epoch 16/50\n",
      " - 1s - loss: 0.0763 - acc: 0.9790 - val_loss: 0.0879 - val_acc: 0.9749\n",
      "Epoch 17/50\n",
      " - 1s - loss: 0.0753 - acc: 0.9786 - val_loss: 0.0894 - val_acc: 0.9733\n",
      "Epoch 18/50\n",
      " - 1s - loss: 0.0749 - acc: 0.9788 - val_loss: 0.1001 - val_acc: 0.9741\n",
      "Epoch 19/50\n",
      " - 1s - loss: 0.0755 - acc: 0.9796 - val_loss: 0.1025 - val_acc: 0.9713\n",
      "Epoch 20/50\n",
      " - 1s - loss: 0.0769 - acc: 0.9797 - val_loss: 0.1040 - val_acc: 0.9757\n",
      "Epoch 21/50\n",
      " - 1s - loss: 0.0759 - acc: 0.9792 - val_loss: 0.0821 - val_acc: 0.9777\n",
      "Epoch 22/50\n",
      " - 1s - loss: 0.0840 - acc: 0.9764 - val_loss: 0.0961 - val_acc: 0.9745\n",
      "Epoch 23/50\n",
      " - 1s - loss: 0.0720 - acc: 0.9797 - val_loss: 0.0830 - val_acc: 0.9765\n",
      "Epoch 24/50\n",
      " - 1s - loss: 0.0733 - acc: 0.9805 - val_loss: 0.0944 - val_acc: 0.9749\n",
      "Epoch 25/50\n",
      " - 1s - loss: 0.0729 - acc: 0.9789 - val_loss: 0.0850 - val_acc: 0.9749\n",
      "Epoch 26/50\n",
      " - 1s - loss: 0.0708 - acc: 0.9806 - val_loss: 0.1214 - val_acc: 0.9725\n",
      "Epoch 27/50\n",
      " - 1s - loss: 0.0750 - acc: 0.9790 - val_loss: 0.0843 - val_acc: 0.9753\n",
      "Epoch 28/50\n",
      " - 1s - loss: 0.0717 - acc: 0.9793 - val_loss: 0.0996 - val_acc: 0.9725\n",
      "Epoch 29/50\n",
      " - 1s - loss: 0.0728 - acc: 0.9798 - val_loss: 0.0968 - val_acc: 0.9717\n",
      "Epoch 30/50\n",
      " - 1s - loss: 0.0737 - acc: 0.9790 - val_loss: 0.0882 - val_acc: 0.9757\n",
      "Epoch 31/50\n",
      " - 1s - loss: 0.0735 - acc: 0.9787 - val_loss: 0.1233 - val_acc: 0.9713\n",
      "Epoch 32/50\n",
      " - 1s - loss: 0.0727 - acc: 0.9795 - val_loss: 0.0837 - val_acc: 0.9757\n",
      "Epoch 33/50\n",
      " - 1s - loss: 0.0716 - acc: 0.9799 - val_loss: 0.0853 - val_acc: 0.9757\n",
      "Epoch 34/50\n",
      " - 1s - loss: 0.0735 - acc: 0.9795 - val_loss: 0.0842 - val_acc: 0.9769\n",
      "Epoch 35/50\n",
      " - 1s - loss: 0.0715 - acc: 0.9802 - val_loss: 0.0951 - val_acc: 0.9741\n",
      "Epoch 36/50\n",
      " - 1s - loss: 0.0741 - acc: 0.9798 - val_loss: 0.0847 - val_acc: 0.9765\n",
      "Epoch 37/50\n",
      " - 1s - loss: 0.0714 - acc: 0.9800 - val_loss: 0.1059 - val_acc: 0.9729\n",
      "Epoch 38/50\n",
      " - 1s - loss: 0.0707 - acc: 0.9795 - val_loss: 0.0941 - val_acc: 0.9761\n",
      "Epoch 39/50\n",
      " - 1s - loss: 0.0742 - acc: 0.9795 - val_loss: 0.0859 - val_acc: 0.9773\n",
      "Epoch 40/50\n",
      " - 1s - loss: 0.0696 - acc: 0.9802 - val_loss: 0.0857 - val_acc: 0.9765\n",
      "Epoch 41/50\n",
      " - 1s - loss: 0.0749 - acc: 0.9776 - val_loss: 0.0928 - val_acc: 0.9737\n",
      "Epoch 42/50\n",
      " - 1s - loss: 0.0710 - acc: 0.9794 - val_loss: 0.0863 - val_acc: 0.9781\n",
      "Epoch 43/50\n",
      " - 1s - loss: 0.0716 - acc: 0.9796 - val_loss: 0.0852 - val_acc: 0.9761\n",
      "Epoch 44/50\n",
      " - 1s - loss: 0.0704 - acc: 0.9797 - val_loss: 0.1006 - val_acc: 0.9733\n",
      "Epoch 45/50\n",
      " - 1s - loss: 0.0731 - acc: 0.9799 - val_loss: 0.0913 - val_acc: 0.9757\n",
      "Epoch 46/50\n",
      " - 1s - loss: 0.0714 - acc: 0.9785 - val_loss: 0.0819 - val_acc: 0.9769\n",
      "Epoch 47/50\n",
      " - 1s - loss: 0.0694 - acc: 0.9804 - val_loss: 0.0833 - val_acc: 0.9769\n",
      "Epoch 48/50\n",
      " - 1s - loss: 0.0740 - acc: 0.9797 - val_loss: 0.1131 - val_acc: 0.9737\n",
      "Epoch 49/50\n",
      " - 1s - loss: 0.0709 - acc: 0.9803 - val_loss: 0.0824 - val_acc: 0.9781\n",
      "Epoch 50/50\n",
      " - 1s - loss: 0.0729 - acc: 0.9789 - val_loss: 0.0917 - val_acc: 0.9761\n"
     ]
    },
    {
     "data": {
      "text/plain": [
       "<keras.callbacks.History at 0x7fe4a5f0a0f0>"
      ]
     },
     "execution_count": 80,
     "metadata": {},
     "output_type": "execute_result"
    }
   ],
   "source": [
    "model.fit(x = train_x, y = train_y, epochs = 100, validation_split = 0.2, verbose = 2)"
   ]
  },
  {
   "cell_type": "code",
   "execution_count": 99,
   "metadata": {},
   "outputs": [
    {
     "name": "stdout",
     "output_type": "stream",
     "text": [
      "<class 'pandas.core.frame.DataFrame'>\n",
      "RangeIndex: 5370 entries, 0 to 5369\n",
      "Data columns (total 8 columns):\n",
      "Mean_Profile               5370 non-null float64\n",
      "SD_Profile                 5370 non-null float64\n",
      "Excess_kurtosis_Profile    5370 non-null float64\n",
      "Skewness_Profile           5370 non-null float64\n",
      "Mean_Curve                 5370 non-null float64\n",
      "SD_Curve                   5370 non-null float64\n",
      "Excess_kurtosis_curve      5370 non-null float64\n",
      "Skewness_curve             5370 non-null float64\n",
      "dtypes: float64(8)\n",
      "memory usage: 335.7 KB\n"
     ]
    }
   ],
   "source": [
    "test = pd.read_csv('Test.csv')\n",
    "test.info()"
   ]
  },
  {
   "cell_type": "code",
   "execution_count": 101,
   "metadata": {},
   "outputs": [
    {
     "data": {
      "text/plain": [
       "array([[0.00018663],\n",
       "       [0.00499922],\n",
       "       [0.00084969],\n",
       "       ...,\n",
       "       [0.0003398 ],\n",
       "       [0.00014504],\n",
       "       [0.00034067]], dtype=float32)"
      ]
     },
     "execution_count": 101,
     "metadata": {},
     "output_type": "execute_result"
    }
   ],
   "source": [
    "y = model.predict(test)\n",
    "y"
   ]
  },
  {
   "cell_type": "code",
   "execution_count": null,
   "metadata": {},
   "outputs": [],
   "source": []
  }
 ],
 "metadata": {
  "kernelspec": {
   "display_name": "Python 3",
   "language": "python",
   "name": "python3"
  },
  "language_info": {
   "codemirror_mode": {
    "name": "ipython",
    "version": 3
   },
   "file_extension": ".py",
   "mimetype": "text/x-python",
   "name": "python",
   "nbconvert_exporter": "python",
   "pygments_lexer": "ipython3",
   "version": "3.6.6"
  }
 },
 "nbformat": 4,
 "nbformat_minor": 2
}
