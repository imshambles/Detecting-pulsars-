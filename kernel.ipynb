{
 "cells": [
  {
   "cell_type": "code",
   "execution_count": 1,
   "metadata": {},
   "outputs": [],
   "source": [
    "import pandas as pd"
   ]
  },
  {
   "cell_type": "code",
   "execution_count": 2,
   "metadata": {},
   "outputs": [
    {
     "data": {
      "text/html": [
       "<div>\n",
       "<style scoped>\n",
       "    .dataframe tbody tr th:only-of-type {\n",
       "        vertical-align: middle;\n",
       "    }\n",
       "\n",
       "    .dataframe tbody tr th {\n",
       "        vertical-align: top;\n",
       "    }\n",
       "\n",
       "    .dataframe thead th {\n",
       "        text-align: right;\n",
       "    }\n",
       "</style>\n",
       "<table border=\"1\" class=\"dataframe\">\n",
       "  <thead>\n",
       "    <tr style=\"text-align: right;\">\n",
       "      <th></th>\n",
       "      <th>Mean_Profile</th>\n",
       "      <th>SD_Profile</th>\n",
       "      <th>Excess_kurtosis_Profile</th>\n",
       "      <th>Skewness_Profile</th>\n",
       "      <th>Mean_Curve</th>\n",
       "      <th>SD_Curve</th>\n",
       "      <th>Excess_kurtosis_curve</th>\n",
       "      <th>Skewness_curve</th>\n",
       "      <th>Pulsar</th>\n",
       "    </tr>\n",
       "  </thead>\n",
       "  <tbody>\n",
       "    <tr>\n",
       "      <th>0</th>\n",
       "      <td>139.937500</td>\n",
       "      <td>53.439035</td>\n",
       "      <td>-0.039384</td>\n",
       "      <td>-0.284501</td>\n",
       "      <td>2.052676</td>\n",
       "      <td>15.381810</td>\n",
       "      <td>10.683568</td>\n",
       "      <td>138.329152</td>\n",
       "      <td>0</td>\n",
       "    </tr>\n",
       "    <tr>\n",
       "      <th>1</th>\n",
       "      <td>139.625000</td>\n",
       "      <td>49.633973</td>\n",
       "      <td>-0.184105</td>\n",
       "      <td>-0.015896</td>\n",
       "      <td>0.939799</td>\n",
       "      <td>10.092949</td>\n",
       "      <td>17.078812</td>\n",
       "      <td>367.454955</td>\n",
       "      <td>0</td>\n",
       "    </tr>\n",
       "    <tr>\n",
       "      <th>2</th>\n",
       "      <td>106.648438</td>\n",
       "      <td>55.669587</td>\n",
       "      <td>0.377442</td>\n",
       "      <td>-0.594865</td>\n",
       "      <td>1.557692</td>\n",
       "      <td>14.090161</td>\n",
       "      <td>12.268356</td>\n",
       "      <td>171.990291</td>\n",
       "      <td>0</td>\n",
       "    </tr>\n",
       "    <tr>\n",
       "      <th>3</th>\n",
       "      <td>83.015625</td>\n",
       "      <td>38.095272</td>\n",
       "      <td>0.514061</td>\n",
       "      <td>2.177837</td>\n",
       "      <td>1.945652</td>\n",
       "      <td>16.407373</td>\n",
       "      <td>9.732946</td>\n",
       "      <td>104.435977</td>\n",
       "      <td>0</td>\n",
       "    </tr>\n",
       "    <tr>\n",
       "      <th>4</th>\n",
       "      <td>116.468750</td>\n",
       "      <td>35.632222</td>\n",
       "      <td>0.386352</td>\n",
       "      <td>2.199301</td>\n",
       "      <td>1.541806</td>\n",
       "      <td>14.173109</td>\n",
       "      <td>12.022914</td>\n",
       "      <td>164.296414</td>\n",
       "      <td>0</td>\n",
       "    </tr>\n",
       "  </tbody>\n",
       "</table>\n",
       "</div>"
      ],
      "text/plain": [
       "   Mean_Profile  SD_Profile  Excess_kurtosis_Profile  Skewness_Profile  \\\n",
       "0    139.937500   53.439035                -0.039384         -0.284501   \n",
       "1    139.625000   49.633973                -0.184105         -0.015896   \n",
       "2    106.648438   55.669587                 0.377442         -0.594865   \n",
       "3     83.015625   38.095272                 0.514061          2.177837   \n",
       "4    116.468750   35.632222                 0.386352          2.199301   \n",
       "\n",
       "   Mean_Curve   SD_Curve  Excess_kurtosis_curve  Skewness_curve  Pulsar  \n",
       "0    2.052676  15.381810              10.683568      138.329152       0  \n",
       "1    0.939799  10.092949              17.078812      367.454955       0  \n",
       "2    1.557692  14.090161              12.268356      171.990291       0  \n",
       "3    1.945652  16.407373               9.732946      104.435977       0  \n",
       "4    1.541806  14.173109              12.022914      164.296414       0  "
      ]
     },
     "execution_count": 2,
     "metadata": {},
     "output_type": "execute_result"
    }
   ],
   "source": [
    "#importing training set\n",
    "df = pd.read_csv(\"Train.csv\")\n",
    "df.head()"
   ]
  },
  {
   "cell_type": "code",
   "execution_count": 3,
   "metadata": {},
   "outputs": [],
   "source": [
    "#seperating feature columns and given outputs\n",
    "train_x = df[df.columns[0:8]]\n",
    "train_y = df[df.columns[8]]"
   ]
  },
  {
   "cell_type": "code",
   "execution_count": 4,
   "metadata": {},
   "outputs": [],
   "source": [
    "#Here, SVM classifier is being used\n",
    "from sklearn import svm"
   ]
  },
  {
   "cell_type": "code",
   "execution_count": 5,
   "metadata": {},
   "outputs": [],
   "source": [
    "clf = svm.SVC(gamma = 'auto')"
   ]
  },
  {
   "cell_type": "code",
   "execution_count": 6,
   "metadata": {},
   "outputs": [
    {
     "data": {
      "text/plain": [
       "SVC(C=1.0, cache_size=200, class_weight=None, coef0=0.0,\n",
       "  decision_function_shape='ovr', degree=3, gamma='auto', kernel='rbf',\n",
       "  max_iter=-1, probability=False, random_state=None, shrinking=True,\n",
       "  tol=0.001, verbose=False)"
      ]
     },
     "execution_count": 6,
     "metadata": {},
     "output_type": "execute_result"
    }
   ],
   "source": [
    "clf.fit(train_x, train_y)"
   ]
  },
  {
   "cell_type": "code",
   "execution_count": 7,
   "metadata": {},
   "outputs": [
    {
     "data": {
      "text/html": [
       "<div>\n",
       "<style scoped>\n",
       "    .dataframe tbody tr th:only-of-type {\n",
       "        vertical-align: middle;\n",
       "    }\n",
       "\n",
       "    .dataframe tbody tr th {\n",
       "        vertical-align: top;\n",
       "    }\n",
       "\n",
       "    .dataframe thead th {\n",
       "        text-align: right;\n",
       "    }\n",
       "</style>\n",
       "<table border=\"1\" class=\"dataframe\">\n",
       "  <thead>\n",
       "    <tr style=\"text-align: right;\">\n",
       "      <th></th>\n",
       "      <th>Mean_Profile</th>\n",
       "      <th>SD_Profile</th>\n",
       "      <th>Excess_kurtosis_Profile</th>\n",
       "      <th>Skewness_Profile</th>\n",
       "      <th>Mean_Curve</th>\n",
       "      <th>SD_Curve</th>\n",
       "      <th>Excess_kurtosis_curve</th>\n",
       "      <th>Skewness_curve</th>\n",
       "    </tr>\n",
       "  </thead>\n",
       "  <tbody>\n",
       "    <tr>\n",
       "      <th>0</th>\n",
       "      <td>114.531250</td>\n",
       "      <td>43.977078</td>\n",
       "      <td>0.348897</td>\n",
       "      <td>0.962387</td>\n",
       "      <td>1.548495</td>\n",
       "      <td>13.955201</td>\n",
       "      <td>10.927910</td>\n",
       "      <td>140.540754</td>\n",
       "    </tr>\n",
       "    <tr>\n",
       "      <th>1</th>\n",
       "      <td>108.617188</td>\n",
       "      <td>45.805656</td>\n",
       "      <td>0.500210</td>\n",
       "      <td>0.328802</td>\n",
       "      <td>2.734950</td>\n",
       "      <td>20.424979</td>\n",
       "      <td>8.552659</td>\n",
       "      <td>78.183891</td>\n",
       "    </tr>\n",
       "    <tr>\n",
       "      <th>2</th>\n",
       "      <td>105.546875</td>\n",
       "      <td>41.360998</td>\n",
       "      <td>0.219053</td>\n",
       "      <td>0.555135</td>\n",
       "      <td>2.469900</td>\n",
       "      <td>14.960704</td>\n",
       "      <td>9.051707</td>\n",
       "      <td>103.517934</td>\n",
       "    </tr>\n",
       "    <tr>\n",
       "      <th>3</th>\n",
       "      <td>94.507812</td>\n",
       "      <td>33.818910</td>\n",
       "      <td>0.401374</td>\n",
       "      <td>3.052846</td>\n",
       "      <td>2.749164</td>\n",
       "      <td>21.541023</td>\n",
       "      <td>8.608826</td>\n",
       "      <td>78.096962</td>\n",
       "    </tr>\n",
       "    <tr>\n",
       "      <th>4</th>\n",
       "      <td>122.562500</td>\n",
       "      <td>45.473679</td>\n",
       "      <td>0.062036</td>\n",
       "      <td>0.417907</td>\n",
       "      <td>2.964047</td>\n",
       "      <td>21.711191</td>\n",
       "      <td>8.214987</td>\n",
       "      <td>71.957368</td>\n",
       "    </tr>\n",
       "  </tbody>\n",
       "</table>\n",
       "</div>"
      ],
      "text/plain": [
       "   Mean_Profile  SD_Profile  Excess_kurtosis_Profile  Skewness_Profile  \\\n",
       "0    114.531250   43.977078                 0.348897          0.962387   \n",
       "1    108.617188   45.805656                 0.500210          0.328802   \n",
       "2    105.546875   41.360998                 0.219053          0.555135   \n",
       "3     94.507812   33.818910                 0.401374          3.052846   \n",
       "4    122.562500   45.473679                 0.062036          0.417907   \n",
       "\n",
       "   Mean_Curve   SD_Curve  Excess_kurtosis_curve  Skewness_curve  \n",
       "0    1.548495  13.955201              10.927910      140.540754  \n",
       "1    2.734950  20.424979               8.552659       78.183891  \n",
       "2    2.469900  14.960704               9.051707      103.517934  \n",
       "3    2.749164  21.541023               8.608826       78.096962  \n",
       "4    2.964047  21.711191               8.214987       71.957368  "
      ]
     },
     "execution_count": 7,
     "metadata": {},
     "output_type": "execute_result"
    }
   ],
   "source": [
    "#importing test dataset\n",
    "df_test = pd.read_csv('Test.csv')\n",
    "df_test.head()"
   ]
  },
  {
   "cell_type": "code",
   "execution_count": 11,
   "metadata": {},
   "outputs": [
    {
     "data": {
      "text/plain": [
       "(0.9933748403575989, 1)"
      ]
     },
     "execution_count": 11,
     "metadata": {},
     "output_type": "execute_result"
    }
   ],
   "source": [
    "y_pred = clf.predict(df_test)\n",
    "score = clf.score(train_x, train_y)\n",
    "score, y_pred.max()"
   ]
  },
  {
   "cell_type": "code",
   "execution_count": 73,
   "metadata": {},
   "outputs": [],
   "source": [
    "#converting np_array (y_pred) into pandas dataframe\n",
    "dataframe = pd.DataFrame(y_pred, columns = [\"Predictions\"], index = range(1, 5371))"
   ]
  },
  {
   "cell_type": "code",
   "execution_count": 74,
   "metadata": {},
   "outputs": [],
   "source": [
    "#writing predictions into Predictions.csv \n",
    "dataframe.to_csv(\"Predictions.csv\")"
   ]
  }
 ],
 "metadata": {
  "kernelspec": {
   "display_name": "Python 3",
   "language": "python",
   "name": "python3"
  },
  "language_info": {
   "codemirror_mode": {
    "name": "ipython",
    "version": 3
   },
   "file_extension": ".py",
   "mimetype": "text/x-python",
   "name": "python",
   "nbconvert_exporter": "python",
   "pygments_lexer": "ipython3",
   "version": "3.6.6"
  }
 },
 "nbformat": 4,
 "nbformat_minor": 2
}
